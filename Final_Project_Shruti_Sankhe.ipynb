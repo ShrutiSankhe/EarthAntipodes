{
 "cells": [
  {
   "cell_type": "code",
   "execution_count": null,
   "metadata": {},
   "outputs": [
    {
     "name": "stdout",
     "output_type": "stream",
     "text": [
      "Curiosity killed the cat.\n",
      "But being curious can make you jump on a roller-coaster which will start from the very place you are at or the city of your choice or your address.\n",
      "And you will know where exactly you will pop out if you dig a tunnel from starting point through the center of the Earth.\n",
      "Enter the address or city you want to start journey from : 1161 chopin terrace\n",
      "Chopin Terrace, Niles Junction, Niles District, Fremont, Alameda County, California, 94536, United States of America\n",
      "37.5584836 -121.9682052\n",
      "You survived Mantle and Core of Earth, surfacing out of land keeps you alive but water kills. Watch out!!!\n",
      "Oops you tried to tunnel out of an ocean and are most probably dead by now. The reasons being \n",
      " 1. Severe hypothermia \n",
      " 2. Lack of air \n",
      " 3. Water pressure collapsed your lungs \n",
      " The coordinates where you emerged are \n",
      "(-37.5584836, 58.0317948)\n"
     ]
    }
   ],
   "source": [
    "from geopy.geocoders import Nominatim\n",
    "import re\n",
    "import math \n",
    "class Antipodes:\n",
    "    \n",
    "    def __init__(self, latitude, longitude):\n",
    "        if isinstance(latitude, float) and isinstance(longitude, float):\n",
    "                self.latitude = latitude\n",
    "                self.longitude = longitude\n",
    "        else:\n",
    "            print 'The origin you entered is invalid. Let me help you with a location you can start from.'\n",
    "            print 'You start from Madrid, Spain'\n",
    "            return 40.416775 , -3.703790     \n",
    "   \n",
    "    def findAntipode(self):\n",
    "        antiLat = - self.latitude\n",
    "        absLon = abs(self.longitude)\n",
    "        antiLon = (180 - absLon)\n",
    "        if self.longitude > 0.0:\n",
    "            antiLon = (-antiLon)\n",
    "        else:\n",
    "            antiLon = antiLon\n",
    "        return antiLat, antiLon\n",
    "\n",
    "print 'Curiosity killed the cat.\\nBut being curious can make you jump on a roller-coaster which will start from the very place you are at or the city of your choice or your address.\\nAnd you will know where exactly you will pop out if you dig a tunnel from starting point through the center of the Earth.'\n",
    "\n",
    "while True:\n",
    "    geolocator = Nominatim()     \n",
    "    try:\n",
    "        origin = raw_input(\"Enter the address or city you want to start journey from : \")\n",
    "        origin = str(origin)\n",
    "        if origin != '' or origin != ' ':\n",
    "            location = geolocator.geocode(origin)\n",
    "        else:\n",
    "            print 'Looks like you are done with your share of adventure. Bye bye!!!'\n",
    "            break   \n",
    "    except:\n",
    "            print 'Please provide a valid input'\n",
    "            \n",
    "    originAdd = location.address\n",
    "    originLat = location.latitude\n",
    "    originLon = location.longitude\n",
    "    print originAdd\n",
    "    print originLat, originLon\n",
    "        \n",
    "    antipodeOrigin = Antipodes(location.latitude, location.longitude)\n",
    "    getAntiPodes = antipodeOrigin.findAntipode()\n",
    "    antiPodeCity = geolocator.reverse(getAntiPodes)\n",
    "    antiPodeCityAddress = unicode(antiPodeCity.address).decode('utf-8') \n",
    "    ocean = ['None', 'At Sea']\n",
    "    print 'You survived Mantle and Core of Earth, surfacing out of land keeps you alive but water kills. Watch out!!!'\n",
    "    for isWater in ocean:\n",
    "        if re.search(isWater,antiPodeCityAddress):\n",
    "            print 'Oops you tried to tunnel out of an ocean and are most probably dead by now. The reasons being \\n 1. Severe hypothermia \\n 2. Lack of air \\n 3. Water pressure collapsed your lungs \\n The coordinates where you emerged are '\n",
    "            print getAntiPodes\n",
    "            break\n",
    "        else:\n",
    "            print 'Whoa, you made it to the other side!!!'\n",
    "            print 'You are in %s' %antiPodeCityAddress\n",
    "            print getAntiPodes\n",
    "            break\n"
   ]
  },
  {
   "cell_type": "code",
   "execution_count": null,
   "metadata": {
    "collapsed": true
   },
   "outputs": [],
   "source": []
  },
  {
   "cell_type": "code",
   "execution_count": null,
   "metadata": {
    "collapsed": true
   },
   "outputs": [],
   "source": []
  }
 ],
 "metadata": {
  "kernelspec": {
   "display_name": "Python 2",
   "language": "python",
   "name": "python2"
  },
  "language_info": {
   "codemirror_mode": {
    "name": "ipython",
    "version": 2
   },
   "file_extension": ".py",
   "mimetype": "text/x-python",
   "name": "python",
   "nbconvert_exporter": "python",
   "pygments_lexer": "ipython2",
   "version": "2.7.13"
  }
 },
 "nbformat": 4,
 "nbformat_minor": 2
}
